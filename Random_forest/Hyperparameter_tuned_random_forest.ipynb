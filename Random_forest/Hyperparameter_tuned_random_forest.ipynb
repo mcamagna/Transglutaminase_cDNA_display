{
 "cells": [
  {
   "cell_type": "code",
   "execution_count": null,
   "id": "b892362a",
   "metadata": {},
   "outputs": [],
   "source": [
    "import pandas as pd\n",
    "import numpy as np\n",
    "import matplotlib.pyplot as plt\n",
    "\n",
    "from sklearn.ensemble import RandomForestRegressor\n",
    "from sklearn.metrics import mean_squared_error\n",
    "from sklearn.model_selection import KFold\n",
    "\n",
    "from hyperopt import hp, fmin, tpe, Trials\n",
    "from hyperopt.pyll import scope\n",
    "import random, os"
   ]
  },
  {
   "cell_type": "markdown",
   "id": "8fc70774",
   "metadata": {},
   "source": [
    "Most functions were put into a separate notebook for easier code reusability"
   ]
  },
  {
   "cell_type": "code",
   "execution_count": null,
   "id": "b3358ffd",
   "metadata": {},
   "outputs": [],
   "source": [
    "%run Functions.ipynb"
   ]
  },
  {
   "cell_type": "markdown",
   "id": "52fa4817",
   "metadata": {},
   "source": [
    "# Random Forest Anlysis"
   ]
  },
  {
   "cell_type": "markdown",
   "id": "69760d37",
   "metadata": {},
   "source": [
    "## SML"
   ]
  },
  {
   "cell_type": "markdown",
   "id": "3b3fd502",
   "metadata": {},
   "source": [
    "### Data preparation"
   ]
  },
  {
   "cell_type": "code",
   "execution_count": null,
   "id": "350fe3e6",
   "metadata": {},
   "outputs": [],
   "source": [
    "df = pd.read_table(\"SML_normalized_filtered.tsv.gz\", index_col=0)\n",
    "df"
   ]
  },
  {
   "cell_type": "code",
   "execution_count": null,
   "id": "b3d615fc-a546-408c-9dd6-4814cdae5442",
   "metadata": {},
   "outputs": [],
   "source": [
    "#remove the glumatine at position 0\n",
    "df['seq'] = df[\"seq\"].apply(lambda seq: seq[1:3]+seq[4:])"
   ]
  },
  {
   "cell_type": "code",
   "execution_count": null,
   "id": "abad2f0a",
   "metadata": {},
   "outputs": [],
   "source": [
    "feature_names = []\n",
    "for i in [\"-2\",\"-1\", \"1\", \"2\", \"3\", \"4\", \"5\", \"6\",\"7\",\"8\", \"9\"]:\n",
    "    for char in \"ARNDCQEGHILKMFPSTWYV\":\n",
    "        feature_names.append(str(i)+\"\\n\"+char)"
   ]
  },
  {
   "cell_type": "code",
   "execution_count": null,
   "id": "18be2f85",
   "metadata": {},
   "outputs": [],
   "source": [
    "X = np.array([aa_to_one_hot(s) for s in df[\"seq\"]])\n",
    "Y = df[\"ER\"].values"
   ]
  },
  {
   "cell_type": "markdown",
   "id": "2fe879de",
   "metadata": {},
   "source": [
    "<br>"
   ]
  },
  {
   "cell_type": "markdown",
   "id": "b7ddbe9d-e8c9-4a23-8b16-572be64959a0",
   "metadata": {},
   "source": [
    "### Hyperparameter optimization"
   ]
  },
  {
   "cell_type": "code",
   "execution_count": null,
   "id": "d75d3f55",
   "metadata": {},
   "outputs": [],
   "source": [
    "space={'max_features': hp.choice(\"max_features\", ['auto', 'sqrt', scope.int(hp.quniform(\"max_features_explicit\", 3, 18, 1))] ) ,\n",
    "       'max_depth' : hp.choice ('max_depth', [None, scope.int(hp.quniform('max_depth_explicit', 2, df.shape[0], 1))]),\n",
    "       'min_samples_split': hp.uniform ('min_samples_split',0,1),\n",
    "       'min_samples_leaf' : scope.int(hp.quniform ('min_samples_leaf', 1, 50, 1)),\n",
    "       'n_estimators': 200,\n",
    "       'n_jobs':os.cpu_count()\n",
    "    }"
   ]
  },
  {
   "cell_type": "code",
   "execution_count": null,
   "id": "3b472964",
   "metadata": {},
   "outputs": [],
   "source": [
    "def evaluate_space(space):\n",
    "    kf = KFold(n_splits=10, shuffle=True)\n",
    "    \n",
    "    min_eval_scores = []\n",
    "    \n",
    "    cross_validation = 1\n",
    "    for train_index, test_index in kf.split(X):\n",
    "        Xtrain = X[train_index]\n",
    "        Ytrain = Y[train_index]\n",
    "        Xtest = X[test_index]\n",
    "        Ytest = Y[test_index]\n",
    "\n",
    "        model = RandomForestRegressor(**space)\n",
    "        model.fit(Xtrain,Ytrain)\n",
    "        \n",
    "        rmse = mean_squared_error(Ytest, model.predict(Xtest), squared=False)\n",
    "        min_eval_scores.append(rmse)\n",
    "        cross_validation+=1\n",
    "        \n",
    "    return np.mean(min_eval_scores)"
   ]
  },
  {
   "cell_type": "code",
   "execution_count": null,
   "id": "ac56765a",
   "metadata": {},
   "outputs": [],
   "source": [
    "trials = Trials()\n",
    "fmin(fn=evaluate_space, space=space, algo=tpe.suggest, max_evals=1000, trials=trials)"
   ]
  },
  {
   "cell_type": "code",
   "execution_count": null,
   "id": "7d90a768",
   "metadata": {},
   "outputs": [],
   "source": [
    "min_loss = 999\n",
    "best_values = None\n",
    "\n",
    "for dt in trials._dynamic_trials:\n",
    "    try:\n",
    "        if dt[\"result\"][\"loss\"]< min_loss:\n",
    "            min_loss = dt[\"result\"][\"loss\"]\n",
    "            best_values = dt[\"misc\"][\"vals\"]\n",
    "    except:\n",
    "        pass\n",
    "print(min_loss)\n",
    "print(best_values)"
   ]
  },
  {
   "cell_type": "markdown",
   "id": "616bf70a",
   "metadata": {},
   "source": [
    "The best values dict contains the values inside of lists, so we'll have to unpack them first"
   ]
  },
  {
   "cell_type": "code",
   "execution_count": null,
   "id": "94da7b67",
   "metadata": {},
   "outputs": [],
   "source": [
    "backup = dict(best_values)"
   ]
  },
  {
   "cell_type": "raw",
   "id": "ec70df93",
   "metadata": {},
   "source": [
    "best_values = backup"
   ]
  },
  {
   "cell_type": "code",
   "execution_count": null,
   "id": "8944a2c0",
   "metadata": {},
   "outputs": [],
   "source": [
    "if len(best_values['max_depth_explicit'])==0:\n",
    "    best_values['max_depth'] = None\n",
    "else:\n",
    "    best_values['max_depth'] = best_values['max_depth_explicit']\n",
    "\n",
    "if len(best_values['max_features_explicit'])==0:\n",
    "    if best_values['max_features'][0] == 0:\n",
    "        best_values['max_features'][0] = 'auto'\n",
    "    elif best_values['max_features'][0] == 1:\n",
    "        best_values['max_features'][0] = 'sqrt'\n",
    "else:\n",
    "    best_values['max_features'] = best_values['max_features_explicit']\n",
    "    \n",
    "del best_values['max_features_explicit']\n",
    "del best_values['max_depth_explicit']\n"
   ]
  },
  {
   "cell_type": "code",
   "execution_count": null,
   "id": "cc87f8fa",
   "metadata": {},
   "outputs": [],
   "source": [
    "for key in best_values.keys():\n",
    "    try:\n",
    "        best_values[key] = best_values[key][0]\n",
    "    except:\n",
    "        pass\n",
    "best_values"
   ]
  },
  {
   "cell_type": "markdown",
   "id": "8bc92f02-f8ae-4ada-b6e9-9f99aca1f9c3",
   "metadata": {},
   "source": [
    "Despite being integers, some values are stored as float and need to be explicitly stored as int, otherwise RandomForest will complain"
   ]
  },
  {
   "cell_type": "code",
   "execution_count": null,
   "id": "8c84e241",
   "metadata": {},
   "outputs": [],
   "source": [
    "try:\n",
    "    best_values['max_features'] = int( best_values['max_features'])\n",
    "except:\n",
    "    pass\n",
    "try:\n",
    "    best_values['max_depth'] = int( best_values['max_depth'])\n",
    "except:\n",
    "    pass\n",
    "try:\n",
    "    best_values['min_samples_leaf'] = int( best_values['min_samples_leaf'])\n",
    "except:\n",
    "    pass\n",
    "best_values"
   ]
  },
  {
   "cell_type": "code",
   "execution_count": null,
   "id": "f61eff94",
   "metadata": {},
   "outputs": [],
   "source": [
    "best_values"
   ]
  },
  {
   "cell_type": "markdown",
   "id": "e17428f7",
   "metadata": {},
   "source": [
    "### Rerun using the tuned parameters"
   ]
  },
  {
   "cell_type": "code",
   "execution_count": null,
   "id": "fda51749",
   "metadata": {},
   "outputs": [],
   "source": [
    "best_values['n_estimators'] = 1000\n",
    "best_values['n_jobs'] = os.cpu_count()"
   ]
  },
  {
   "cell_type": "code",
   "execution_count": null,
   "id": "0dae87e3",
   "metadata": {},
   "outputs": [],
   "source": [
    "permutation_results = []\n",
    "\n",
    "kf = KFold(n_splits=10, shuffle=True)\n",
    "cross_validation = 1\n",
    "for train_index, test_index in kf.split(X):\n",
    "    print(\"Cross validation:\",cross_validation)\n",
    "    Xtrain = X[train_index]\n",
    "    Ytrain = Y[train_index]\n",
    "    Xtest = X[test_index]\n",
    "    Ytest = Y[test_index]\n",
    "    \n",
    "    model = RandomForestRegressor(**best_values)\n",
    "    model.fit(Xtrain,Ytrain)\n",
    "\n",
    "    rmse = mean_squared_error(Ytest, model.predict(Xtest), squared=False)\n",
    "    \n",
    "    permut_result = calculatePermutationImportance(model, X, Y, feature_names, savefigure=False, filename_suffix=\"_RF_hypertuned_SML\", n_repeats=10)\n",
    "    permutation_results.append(permut_result)\n",
    "    cross_validation+=1"
   ]
  },
  {
   "cell_type": "code",
   "execution_count": null,
   "id": "ffa88545",
   "metadata": {},
   "outputs": [],
   "source": [
    "mergePermutationImportanceResults(permutation_results, feature_names, \"_RF_SML\")"
   ]
  },
  {
   "cell_type": "markdown",
   "id": "eb972962-767c-4c22-a052-aa89dbcf230c",
   "metadata": {},
   "source": [
    "<br><br>"
   ]
  },
  {
   "cell_type": "markdown",
   "id": "453e407a",
   "metadata": {},
   "source": [
    "### Data preparation (SRL)"
   ]
  },
  {
   "cell_type": "code",
   "execution_count": null,
   "id": "99725a89",
   "metadata": {},
   "outputs": [],
   "source": [
    "df = pd.read_table(\"SRL_normalized_filtered.tsv.gz\", index_col=0)\n",
    "df"
   ]
  },
  {
   "cell_type": "markdown",
   "id": "d0fbebbd",
   "metadata": {},
   "source": [
    "**SRL: X X Q X K L X X X W P X**"
   ]
  },
  {
   "cell_type": "code",
   "execution_count": null,
   "id": "0010fddb",
   "metadata": {},
   "outputs": [],
   "source": [
    "#for SRL, we'll only want to keep the amino acid positions that were mutated\n",
    "df[\"seq\"] = df[\"seq\"].apply(lambda seq: seq[1:3]+seq[4]+seq[7:10]+seq[-1])"
   ]
  },
  {
   "cell_type": "code",
   "execution_count": null,
   "id": "a2ad6f7d",
   "metadata": {},
   "outputs": [],
   "source": [
    "feature_names = []\n",
    "for i in [\"-2\",\"-1\", \"1\", \"4\", \"5\", \"6\", \"9\"]:\n",
    "    for char in \"ARNDCQEGHILKMFPSTWYV\":\n",
    "        feature_names.append(str(i)+\"\\n\"+char)"
   ]
  },
  {
   "cell_type": "code",
   "execution_count": null,
   "id": "806c3979",
   "metadata": {},
   "outputs": [],
   "source": [
    "X = np.array([aa_to_one_hot(s) for s in df[\"seq\"]])\n",
    "Y = df[\"ER\"].values"
   ]
  },
  {
   "cell_type": "markdown",
   "id": "9bc02e78",
   "metadata": {},
   "source": [
    "<br><br>"
   ]
  },
  {
   "cell_type": "code",
   "execution_count": null,
   "id": "186116c1",
   "metadata": {},
   "outputs": [],
   "source": [
    "space={'max_features': hp.choice(\"max_features\", ['auto', 'sqrt', scope.int(hp.quniform(\"max_features_explicit\", 3, 18, 1))] ) ,\n",
    "       'max_depth' : hp.choice ('max_depth', [None, scope.int(hp.quniform('max_depth_explicit', 2, df.shape[0], 1))]),\n",
    "       'min_samples_split': hp.uniform ('min_samples_split',0,1),\n",
    "       'min_samples_leaf' : scope.int(hp.quniform ('min_samples_leaf', 1, 50, 1)),\n",
    "       'n_estimators': 200,\n",
    "       'n_jobs':os.cpu_count()\n",
    "    }"
   ]
  },
  {
   "cell_type": "code",
   "execution_count": null,
   "id": "c16409e4",
   "metadata": {},
   "outputs": [],
   "source": [
    "def evaluate_space(space):\n",
    "    kf = KFold(n_splits=10, shuffle=True)\n",
    "    \n",
    "    min_eval_scores = []\n",
    "    \n",
    "    cross_validation = 1\n",
    "    for train_index, test_index in kf.split(X):\n",
    "        Xtrain = X[train_index]\n",
    "        Ytrain = Y[train_index]\n",
    "        Xtest = X[test_index]\n",
    "        Ytest = Y[test_index]\n",
    "\n",
    "        model = RandomForestRegressor(**space)\n",
    "        model.fit(Xtrain,Ytrain)\n",
    "        \n",
    "        rmse = mean_squared_error(Ytest, model.predict(Xtest), squared=False)\n",
    "        min_eval_scores.append(rmse)\n",
    "        cross_validation+=1\n",
    "        \n",
    "    return np.mean(min_eval_scores)"
   ]
  },
  {
   "cell_type": "code",
   "execution_count": null,
   "id": "0c8cd716",
   "metadata": {},
   "outputs": [],
   "source": [
    "trials = Trials()\n",
    "fmin(fn=evaluate_space, space=space, algo=tpe.suggest, max_evals=1000, trials=trials)"
   ]
  },
  {
   "cell_type": "code",
   "execution_count": null,
   "id": "c37027c9",
   "metadata": {},
   "outputs": [],
   "source": [
    "min_loss = 999\n",
    "best_values = None\n",
    "\n",
    "for dt in trials._dynamic_trials:\n",
    "    try:\n",
    "        if dt[\"result\"][\"loss\"]< min_loss:\n",
    "            min_loss = dt[\"result\"][\"loss\"]\n",
    "            best_values = dt[\"misc\"][\"vals\"]\n",
    "    except:\n",
    "        pass\n",
    "print(min_loss)\n",
    "print(best_values)"
   ]
  },
  {
   "cell_type": "code",
   "execution_count": null,
   "id": "d2b58d78",
   "metadata": {},
   "outputs": [],
   "source": [
    "if len(best_values['max_depth_explicit'])==0:\n",
    "    best_values['max_depth'] = None\n",
    "else:\n",
    "    best_values['max_depth'] = best_values['max_depth_explicit']\n",
    "\n",
    "if len(best_values['max_features_explicit'])==0:\n",
    "    if best_values['max_features'][0] == 0:\n",
    "        best_values['max_features'][0] = 'auto'\n",
    "    elif best_values['max_features'][0] == 1:\n",
    "        best_values['max_features'][0] = 'sqrt'\n",
    "else:\n",
    "    best_values['max_features'] = best_values['max_features_explicit']\n",
    "    \n",
    "del best_values['max_features_explicit']\n",
    "del best_values['max_depth_explicit']\n"
   ]
  },
  {
   "cell_type": "code",
   "execution_count": null,
   "id": "c2a42c0a",
   "metadata": {},
   "outputs": [],
   "source": [
    "for key in best_values.keys():\n",
    "    try:\n",
    "        best_values[key] = best_values[key][0]\n",
    "    except:\n",
    "        pass\n",
    "best_values"
   ]
  },
  {
   "cell_type": "code",
   "execution_count": null,
   "id": "0496ab25",
   "metadata": {},
   "outputs": [],
   "source": [
    "try:\n",
    "    best_values['max_features'] = int( best_values['max_features'])\n",
    "except:\n",
    "    pass\n",
    "try:\n",
    "    best_values['max_depth'] = int( best_values['max_depth'])\n",
    "except:\n",
    "    pass\n",
    "try:\n",
    "    best_values['min_samples_leaf'] = int( best_values['min_samples_leaf'])\n",
    "except:\n",
    "    pass\n",
    "best_values"
   ]
  },
  {
   "cell_type": "markdown",
   "id": "7429f69d",
   "metadata": {},
   "source": [
    "### Rerun using the tuned parameters"
   ]
  },
  {
   "cell_type": "code",
   "execution_count": null,
   "id": "9bb7f3d8",
   "metadata": {},
   "outputs": [],
   "source": [
    "best_values['n_estimators'] = 1000\n",
    "best_values['n_jobs'] = os.cpu_count()"
   ]
  },
  {
   "cell_type": "code",
   "execution_count": null,
   "id": "219acc90",
   "metadata": {},
   "outputs": [],
   "source": [
    "permutation_results = []\n",
    "\n",
    "kf = KFold(n_splits=10, shuffle=True)\n",
    "cross_validation = 1\n",
    "for train_index, test_index in kf.split(X):\n",
    "    print(\"Cross validation:\",cross_validation)\n",
    "    Xtrain = X[train_index]\n",
    "    Ytrain = Y[train_index]\n",
    "    Xtest = X[test_index]\n",
    "    Ytest = Y[test_index]\n",
    "    \n",
    "    model = RandomForestRegressor(**best_values)\n",
    "    #print(model)\n",
    "    model.fit(Xtrain,Ytrain)\n",
    "\n",
    "    rmse = mean_squared_error(Ytest, model.predict(Xtest), squared=False)\n",
    "\n",
    "    permut_result = calculatePermutationImportance(model, X, Y, feature_names, savefigure=False, filename_suffix=\"_RF_hypertuned_SRL\", n_repeats=10)\n",
    "    permutation_results.append(permut_result)\n",
    "    cross_validation+=1"
   ]
  },
  {
   "cell_type": "code",
   "execution_count": null,
   "id": "94738092",
   "metadata": {
    "scrolled": true
   },
   "outputs": [],
   "source": [
    "mergePermutationImportanceResults(permutation_results, feature_names, \"_RF_SRL\")"
   ]
  }
 ],
 "metadata": {
  "kernelspec": {
   "display_name": "Python 3 (ipykernel)",
   "language": "python",
   "name": "python3"
  },
  "language_info": {
   "codemirror_mode": {
    "name": "ipython",
    "version": 3
   },
   "file_extension": ".py",
   "mimetype": "text/x-python",
   "name": "python",
   "nbconvert_exporter": "python",
   "pygments_lexer": "ipython3",
   "version": "3.10.12"
  }
 },
 "nbformat": 4,
 "nbformat_minor": 5
}
