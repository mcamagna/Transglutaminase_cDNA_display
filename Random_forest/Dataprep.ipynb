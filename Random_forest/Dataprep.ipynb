{
 "cells": [
  {
   "cell_type": "markdown",
   "id": "c9be1bc1",
   "metadata": {},
   "source": [
    "# Introduction"
   ]
  },
  {
   "cell_type": "markdown",
   "id": "a4e6aa2f",
   "metadata": {},
   "source": [
    "SML= single mutant library (mixture of single-mutants randomized each at one position only)<br>\n",
    "SRL= semi-random library (7 randomized sites)\n",
    "\n",
    "\n",
    " - Y E Q H K L P S S W P F**    (original peptide aka K5)\n",
    " - X X **Q** X **K L** X X X **W P** X (semi-random mutant library)\n",
    " - X X **Q** X **K** X X X X **W P** X (single mutant library)\n",
    "\n",
    "The reactive glutamine is defined as position 0"
   ]
  },
  {
   "cell_type": "code",
   "execution_count": null,
   "id": "b892362a",
   "metadata": {},
   "outputs": [],
   "source": [
    "import pandas as pd\n",
    "import numpy as np\n",
    "import matplotlib.pyplot as plt\n",
    "pd.options.display.float_format = '{:40.2f}'.format"
   ]
  },
  {
   "cell_type": "markdown",
   "id": "3b3fd502",
   "metadata": {},
   "source": [
    "# Data loading"
   ]
  },
  {
   "cell_type": "markdown",
   "id": "89cdfb03-7305-476d-b60c-3036aa89ba99",
   "metadata": {},
   "source": [
    "### SML"
   ]
  },
  {
   "cell_type": "code",
   "execution_count": null,
   "id": "0879970c",
   "metadata": {},
   "outputs": [],
   "source": [
    "before = pd.read_table(\"count_SML_Before_AA_Seq.txt.gz\", index_col=1)\n",
    "before = before[['num_before']]\n",
    "\n",
    "after = pd.read_table(\"count_SML_After_AA_Seq.txt.gz\", index_col=1)\n",
    "after = after[['num_after']]\n",
    "\n",
    "SML = before.join(after, how='outer')\n",
    "SML.fillna(0, inplace=True)\n",
    "SML = SML.reset_index().rename(columns={'index':'seq'}).set_index(\"seq\")\n",
    "SML.head()"
   ]
  },
  {
   "cell_type": "markdown",
   "id": "721f29e8-046e-4585-834c-b3c3c3b6b274",
   "metadata": {},
   "source": [
    "### SRL"
   ]
  },
  {
   "cell_type": "code",
   "execution_count": null,
   "id": "3d82fbc3",
   "metadata": {},
   "outputs": [],
   "source": [
    "before = pd.read_table(\"count_SRL_Before_AA_Seq.txt.gz\", index_col=1)\n",
    "before = before[['num_before']]\n",
    "\n",
    "after = pd.read_table(\"count_SRL_After_AA_Seq.txt.gz\", index_col=1)\n",
    "after = after[['num_after']]\n",
    "\n",
    "SRL = before.join(after, how='outer')\n",
    "SRL.fillna(0, inplace=True)\n",
    "SRL = SRL.reset_index().rename(columns={'index':'seq'}).set_index(\"seq\")\n",
    "SRL.head()"
   ]
  },
  {
   "cell_type": "markdown",
   "id": "74b3c8e6",
   "metadata": {},
   "source": [
    "<br>"
   ]
  },
  {
   "cell_type": "markdown",
   "id": "abc7fb34",
   "metadata": {},
   "source": [
    "# Count normalization"
   ]
  },
  {
   "cell_type": "code",
   "execution_count": null,
   "id": "3553b7e9",
   "metadata": {},
   "outputs": [],
   "source": [
    "def normalize(df):\n",
    "    df[\"num_before\"] = df[\"num_before\"]/df[\"num_before\"].sum()\n",
    "    df[\"num_after\"] = df[\"num_after\"]/df[\"num_after\"].sum()\n",
    "    df[\"ER\"] = df[\"num_after\"]/df[\"num_before\"]\n",
    "    return df"
   ]
  },
  {
   "cell_type": "code",
   "execution_count": null,
   "id": "2401dfbb",
   "metadata": {},
   "outputs": [],
   "source": [
    "SML = normalize(SML)\n",
    "SRL = normalize(SRL)"
   ]
  },
  {
   "cell_type": "markdown",
   "id": "9482e4f1-7918-41a0-9d8c-3d1340d10775",
   "metadata": {},
   "source": [
    "<br>"
   ]
  },
  {
   "cell_type": "markdown",
   "id": "a3fd4c34",
   "metadata": {},
   "source": [
    "# Peptide filtering"
   ]
  },
  {
   "cell_type": "markdown",
   "id": "77881a98",
   "metadata": {},
   "source": [
    "We will only keep peptides, that match all of of the following conditions \n",
    " - They start with a methionine\n",
    " - They do not contain a stop codon\n",
    " - They contain a glutamine at pos 0\n",
    " - They have at least one count in both the before and after condition (otherwise no enrichment can be calculated)"
   ]
  },
  {
   "cell_type": "code",
   "execution_count": null,
   "id": "9b974420",
   "metadata": {},
   "outputs": [],
   "source": [
    "SML = SML.reset_index()\n",
    "SRL = SRL.reset_index()"
   ]
  },
  {
   "cell_type": "code",
   "execution_count": null,
   "id": "a2abb11c",
   "metadata": {},
   "outputs": [],
   "source": [
    "def removeStopcodons(df):\n",
    "    df = df[(df[\"seq\"].str.contains(\"*\",regex=False)==False)] #remove stopcodons\n",
    "    return df\n",
    "\n",
    "def removeWithoutStartcodons(df):\n",
    "    df = df[df[\"seq\"].str.startswith('M')] \n",
    "    return df\n",
    "\n",
    "def filterByPattern(df, pattern):\n",
    "    return df[df[\"seq\"].str.contains(pat=pattern)]\n",
    "\n",
    "def filterNonZero(df):\n",
    "    df = df[(df[\"num_before\"]>0) & (df[\"num_after\"]>0)]\n",
    "    return df"
   ]
  },
  {
   "cell_type": "code",
   "execution_count": null,
   "id": "edfdc3b9",
   "metadata": {},
   "outputs": [],
   "source": [
    "counts = []\n",
    "counts.append(SML.shape[0])\n",
    "\n",
    "tmp = removeStopcodons(SML)\n",
    "counts.append(tmp.shape[0])\n",
    "\n",
    "tmp = removeWithoutStartcodons(tmp)\n",
    "counts.append(tmp.shape[0])\n",
    "\n",
    "tmp = filterByPattern(tmp, \"^...Q........\")\n",
    "counts.append(tmp.shape[0])\n",
    "\n",
    "tmp = filterNonZero(tmp)\n",
    "counts.append(tmp.shape[0])\n",
    "SML_filtered = tmp\n",
    "\n",
    "print(counts)\n",
    "SML_counts = counts"
   ]
  },
  {
   "cell_type": "code",
   "execution_count": null,
   "id": "86a529f3",
   "metadata": {},
   "outputs": [],
   "source": [
    "counts = []\n",
    "counts.append(SRL.shape[0])\n",
    "\n",
    "tmp = removeStopcodons(SRL)\n",
    "counts.append(tmp.shape[0])\n",
    "\n",
    "tmp = removeWithoutStartcodons(tmp)\n",
    "counts.append(tmp.shape[0])\n",
    "\n",
    "tmp = filterByPattern(tmp, \"^...Q........\")\n",
    "counts.append(tmp.shape[0])\n",
    "\n",
    "tmp = filterNonZero(tmp)\n",
    "counts.append(tmp.shape[0])\n",
    "SRL_filtered = tmp\n",
    "\n",
    "print(counts)\n",
    "SRL_counts = counts"
   ]
  },
  {
   "cell_type": "code",
   "execution_count": null,
   "id": "b287c5e2",
   "metadata": {},
   "outputs": [],
   "source": [
    "SML_filtered.to_csv(\"SML_normalized_filtered.tsv.gz\", sep=\"\\t\")\n",
    "SRL_filtered.to_csv(\"SRL_normalized_filtered.tsv.gz\", sep=\"\\t\")"
   ]
  }
 ],
 "metadata": {
  "kernelspec": {
   "display_name": "Python 3 (ipykernel)",
   "language": "python",
   "name": "python3"
  },
  "language_info": {
   "codemirror_mode": {
    "name": "ipython",
    "version": 3
   },
   "file_extension": ".py",
   "mimetype": "text/x-python",
   "name": "python",
   "nbconvert_exporter": "python",
   "pygments_lexer": "ipython3",
   "version": "3.12.0"
  }
 },
 "nbformat": 4,
 "nbformat_minor": 5
}
